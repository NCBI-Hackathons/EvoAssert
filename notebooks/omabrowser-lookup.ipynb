{
 "cells": [
  {
   "cell_type": "code",
   "execution_count": null,
   "metadata": {},
   "outputs": [],
   "source": [
    "import pandas as pd\n",
    "import requests\n",
    "import io"
   ]
  },
  {
   "cell_type": "code",
   "execution_count": null,
   "metadata": {},
   "outputs": [],
   "source": [
    "x = ['CAEEL',\n",
    "    'DANRE',\n",
    "    'DROME',\n",
    "    'HUMAN',\n",
    "    'MOUSE',\n",
    "    'PANTR',\n",
    "    'RATNO',\n",
    "    'TAKRU']\n",
    "x"
   ]
  },
  {
   "cell_type": "code",
   "execution_count": null,
   "metadata": {},
   "outputs": [],
   "source": [
    "# Submit a query to the server at https://omabrowser.org/cgi-bin/gateway.pl?f=PairwiseOrthologs&p1=[x]&p2=[y]&p3=EnsemblGene\n",
    "#  where x is the first species that we want to search against\n",
    "#  where y is the second species that we want to run the search against\n",
    "for i in x:\n",
    "    for j in x:\n",
    "        if i != j:\n",
    "            payload = {'f': 'PairwiseOrthologs',\n",
    "                      'p1': i,\n",
    "                      'p2': j,\n",
    "                      'p3': 'OMA'}\n",
    "            r = requests.request('GET', 'https://omabrowser.org/cgi-bin/gateway.pl', params=payload)\n",
    "            filename = str(i) + \"_\" + str(j) + \"_\" + \"OMA.csv\"\n",
    "            df = pd.read_csv(io.StringIO(r.content.decode('utf-8')), header=None, delimiter=\"\\t\")\n",
    "            df.to_csv(filename, header=None, index=None, sep=\"\\t\")"
   ]
  },
  {
   "cell_type": "code",
   "execution_count": null,
   "metadata": {},
   "outputs": [],
   "source": []
  }
 ],
 "metadata": {
  "kernelspec": {
   "display_name": "Python 3",
   "language": "python",
   "name": "python3"
  },
  "language_info": {
   "codemirror_mode": {
    "name": "ipython",
    "version": 3
   },
   "file_extension": ".py",
   "mimetype": "text/x-python",
   "name": "python",
   "nbconvert_exporter": "python",
   "pygments_lexer": "ipython3",
   "version": "3.6.5"
  }
 },
 "nbformat": 4,
 "nbformat_minor": 2
}
